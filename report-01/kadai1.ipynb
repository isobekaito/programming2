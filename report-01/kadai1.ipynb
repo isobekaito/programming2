{
  "nbformat": 4,
  "nbformat_minor": 0,
  "metadata": {
    "colab": {
      "provenance": []
    },
    "kernelspec": {
      "name": "python3",
      "display_name": "Python 3"
    },
    "language_info": {
      "name": "python"
    }
  },
  "cells": [
    {
      "cell_type": "code",
      "source": [
        "try:\n",
        "   a,b,c,d = [1,1,9,9]\n",
        "   # ten = 計算式 を作成して、ten = 10になる計算式を組み立てる\n",
        "   ten = (a+b/c)*d\n",
        "   assert ten == 10, f\"Ten is {ten}, not 10\"\n",
        "   print(f\"Ten is {ten}, {ten} == 10.\")\n",
        "except AssertionError as e:\n",
        "   print(f\"惜しい!  try again\");\n",
        "   print(e);\n",
        "except ZeroDivisionError as e:\n",
        "   print(f\"ゼロで割ったら無限大, so let's try it again\");\n",
        "   print(e);\n",
        "   raise e\n",
        "\n"
      ],
      "metadata": {
        "colab": {
          "base_uri": "https://localhost:8080/"
        },
        "id": "4f5trgBiR-17",
        "outputId": "24b97c08-ff02-4163-dc28-8e9c5a8dc685"
      },
      "execution_count": null,
      "outputs": [
        {
          "output_type": "stream",
          "name": "stdout",
          "text": [
            "Ten is 10.0, 10.0 == 10.\n"
          ]
        }
      ]
    },
    {
      "cell_type": "code",
      "source": [
        "try:\n",
        "   a,b,c,d = (3, 4, 6, 6,)\n",
        "   # ten = 計算式 を作成して、ten = 10になる計算式を組み立てる\n",
        "   ten = (b*c+d)/a\n",
        "   assert ten == 10, f\"Ten is {ten}, not 10\"\n",
        "   print(f\"Ten is {ten}, {ten} == 10.\")\n",
        "except AssertionError as e:\n",
        "   print(f\"惜しい!  try again\");\n",
        "   print(e);\n",
        "except ZeroDivisionError as e:\n",
        "   print(f\"ゼロで割ったら無限大, so let's try it again\");\n",
        "   print(e);"
      ],
      "metadata": {
        "colab": {
          "base_uri": "https://localhost:8080/"
        },
        "id": "7VtjIJpAeKc6",
        "outputId": "f90afd4b-b33a-4fea-b1dd-da638223ca98"
      },
      "execution_count": null,
      "outputs": [
        {
          "output_type": "stream",
          "name": "stdout",
          "text": [
            "Ten is 10.0, 10.0 == 10.\n"
          ]
        }
      ]
    },
    {
      "cell_type": "code",
      "source": [
        "try:\n",
        "   a,b,c,d = (4, 6, 6, 9)\n",
        "   # ten = 計算式 を作成して、ten = 10になる計算式を組み立てる\n",
        "   ten = a/b*(c+d)\n",
        "   assert ten == 10, f\"Ten is {ten}, not 10\"\n",
        "   print(f\"Ten is {ten}, {ten} == 10.\")\n",
        "except AssertionError as e:\n",
        "   print(f\"惜しい!  try again\");\n",
        "   print(e);\n",
        "except ZeroDivisionError as e:\n",
        "   print(f\"ゼロで割ったら無限大, so let's try it again\");\n",
        "   print(e);"
      ],
      "metadata": {
        "colab": {
          "base_uri": "https://localhost:8080/"
        },
        "id": "BAT2m6c_fCPM",
        "outputId": "2d7a9f2d-1d00-468a-92c1-2646bc748514"
      },
      "execution_count": null,
      "outputs": [
        {
          "output_type": "stream",
          "name": "stdout",
          "text": [
            "Ten is 10, 10 == 10.\n"
          ]
        }
      ]
    },
    {
      "cell_type": "code",
      "source": [
        "try:\n",
        "   a,b,c,d = (9, 9, 9, 9)\n",
        "   # ten = 計算式 を作成して、ten = 10になる計算式を組み立てる\n",
        "   ten = (a*b+c)/d\n",
        "   assert ten == 10, f\"Ten is {ten}, not 10\"\n",
        "   print(f\"Ten is {ten}, {ten} == 10.\")\n",
        "except AssertionError as e:\n",
        "   print(f\"惜しい!  try again\");\n",
        "   print(e);\n",
        "except ZeroDivisionError as e:\n",
        "   print(f\"ゼロで割ったら無限大, so let's try it again\");\n",
        "   print(e);"
      ],
      "metadata": {
        "colab": {
          "base_uri": "https://localhost:8080/"
        },
        "id": "cZCSnUIOf-70",
        "outputId": "bcc339c2-4408-4426-d6af-9b1b6c2a4f1b"
      },
      "execution_count": null,
      "outputs": [
        {
          "output_type": "stream",
          "name": "stdout",
          "text": [
            "Ten is 10.0, 10.0 == 10.\n"
          ]
        }
      ]
    },
    {
      "cell_type": "code",
      "source": [
        "try:\n",
        "   a,b,c,d = (1, 1, 5, 8)\n",
        "   # ten = 計算式 を作成して、ten = 10になる計算式を組み立てる\n",
        "   ten = d/(a-b/c)\n",
        "   assert ten == 10, f\"Ten is {ten}, not 10\"\n",
        "   print(f\"Ten is {ten}, {ten} == 10.\")\n",
        "except AssertionError as e:\n",
        "   print(f\"惜しい!  try again\");\n",
        "   print(e);\n",
        "except ZeroDivisionError as e:\n",
        "   print(f\"ゼロで割ったら無限大, so let's try it again\");\n",
        "   print(e);"
      ],
      "metadata": {
        "colab": {
          "base_uri": "https://localhost:8080/"
        },
        "id": "c95UVWGogusZ",
        "outputId": "d7fbb408-2831-4fb3-e083-933887d90bc0"
      },
      "execution_count": null,
      "outputs": [
        {
          "output_type": "stream",
          "name": "stdout",
          "text": [
            "Ten is 10.0, 10.0 == 10.\n"
          ]
        }
      ]
    }
  ]
}